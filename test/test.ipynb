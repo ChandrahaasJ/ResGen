{
 "cells": [
  {
   "cell_type": "code",
   "execution_count": 1,
   "id": "e738f065",
   "metadata": {},
   "outputs": [
    {
     "name": "stdout",
     "output_type": "stream",
     "text": [
      "ji\n"
     ]
    }
   ],
   "source": [
    "print(\"ji\")"
   ]
  },
  {
   "cell_type": "code",
   "execution_count": 3,
   "id": "e27bb65e",
   "metadata": {},
   "outputs": [
    {
     "name": "stdout",
     "output_type": "stream",
     "text": [
      "\\begin{rSection}{Projects}\n"
     ]
    }
   ],
   "source": [
    "section_start = r\"\\begin{{rSection}}{{{}}}\"  # Double curly braces around rSection\n",
    "section_name = \"Projects\"\n",
    "section_start = section_start.format(section_name)\n",
    "print(section_start)"
   ]
  },
  {
   "cell_type": "code",
   "execution_count": null,
   "id": "4f929539",
   "metadata": {},
   "outputs": [],
   "source": []
  }
 ],
 "metadata": {
  "kernelspec": {
   "display_name": "base",
   "language": "python",
   "name": "python3"
  },
  "language_info": {
   "codemirror_mode": {
    "name": "ipython",
    "version": 3
   },
   "file_extension": ".py",
   "mimetype": "text/x-python",
   "name": "python",
   "nbconvert_exporter": "python",
   "pygments_lexer": "ipython3",
   "version": "3.12.4"
  }
 },
 "nbformat": 4,
 "nbformat_minor": 5
}
